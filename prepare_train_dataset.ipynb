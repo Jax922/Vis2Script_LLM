{
 "cells": [
  {
   "cell_type": "code",
   "execution_count": 15,
   "metadata": {},
   "outputs": [],
   "source": [
    "import json\n",
    "import os\n",
    "import sys\n",
    "import glob\n",
    "import numpy as np"
   ]
  },
  {
   "cell_type": "code",
   "execution_count": 20,
   "metadata": {},
   "outputs": [],
   "source": [
    "train_dir = './dataset/train'\n",
    "train_dataset_JSON = './dataset/train_dataset.json'\n",
    "test_dataset_JSON = './dataset/test_dataset.json'\n",
    "\n",
    "txt_files = glob.glob(os.path.join(train_dir, '*.txt'))\n",
    "\n",
    "\n",
    "system_message = \"\"\"You are an presentation script generator based on the chart dataset. Users will ask you questions in English and you will generate a presentation script (foucs on data viusalization storytelling).\"\"\"\n",
    "\n",
    "def create_conversation(sample):\n",
    "  return {\n",
    "    \"messages\": [\n",
    "      {\"role\": \"system\", \"content\": system_message},\n",
    "      {\"role\": \"user\", \"content\": sample[\"question\"]},\n",
    "      {\"role\": \"assistant\", \"content\": sample[\"answer\"]}\n",
    "    ]\n",
    "  }\n",
    "\n",
    "\n",
    "def convert2JSON(files, json_file_path):\n",
    "    samples = []\n",
    "    for file in files:\n",
    "        with open(file, 'r') as f:\n",
    "            txt_content = f.read()\n",
    "        sections = txt_content.split('\\n\\n')\n",
    "        sample = {}\n",
    "        sample['question'] = sections[0]+ \"\\n\" +sections[1]\n",
    "        sample['answer'] = \"\"\n",
    "        for i in range(2, len(sections)):\n",
    "            sample['answer'] += (sections[i] + \"\\n\")\n",
    "        json_string = json.dumps(create_conversation(sample), indent=None)\n",
    "        samples.append(json_string)\n",
    "    with open(json_file_path, 'w') as json_file:\n",
    "            for sample in samples:\n",
    "                json_file.write(sample + '\\n')"
   ]
  },
  {
   "cell_type": "code",
   "execution_count": 21,
   "metadata": {},
   "outputs": [],
   "source": [
    "convert2JSON(txt_files, train_dataset_JSON)\n",
    "convert2JSON(txt_files, test_dataset_JSON)"
   ]
  }
 ],
 "metadata": {
  "kernelspec": {
   "display_name": "base",
   "language": "python",
   "name": "python3"
  },
  "language_info": {
   "codemirror_mode": {
    "name": "ipython",
    "version": 3
   },
   "file_extension": ".py",
   "mimetype": "text/x-python",
   "name": "python",
   "nbconvert_exporter": "python",
   "pygments_lexer": "ipython3",
   "version": "3.11.4"
  }
 },
 "nbformat": 4,
 "nbformat_minor": 2
}
