{
 "cells": [
  {
   "cell_type": "code",
   "execution_count": 1,
   "metadata": {},
   "outputs": [
    {
     "name": "stdout",
     "output_type": "stream",
     "text": [
      "Requirement already satisfied: requests in /home/qbp758/anaconda3/lib/python3.11/site-packages (2.31.0)\n",
      "Requirement already satisfied: charset-normalizer<4,>=2 in /home/qbp758/anaconda3/lib/python3.11/site-packages (from requests) (2.0.4)\n",
      "Requirement already satisfied: idna<4,>=2.5 in /home/qbp758/anaconda3/lib/python3.11/site-packages (from requests) (3.4)\n",
      "Requirement already satisfied: urllib3<3,>=1.21.1 in /home/qbp758/anaconda3/lib/python3.11/site-packages (from requests) (1.26.16)\n",
      "Requirement already satisfied: certifi>=2017.4.17 in /home/qbp758/anaconda3/lib/python3.11/site-packages (from requests) (2023.7.22)\n"
     ]
    }
   ],
   "source": [
    "!pip install requests"
   ]
  },
  {
   "cell_type": "code",
   "execution_count": 17,
   "metadata": {},
   "outputs": [
    {
     "name": "stderr",
     "output_type": "stream",
     "text": [
      "Special tokens have been added in the vocabulary, make sure the associated word embeddings are fine-tuned or trained.\n"
     ]
    }
   ],
   "source": [
    "import requests\n",
    "import json\n",
    "from transformers import AutoTokenizer\n",
    "\n",
    "\n",
    "url = 'http://127.0.0.1:5000/generate'\n",
    "\n",
    "input_text = \"\\nData Background: \\\"This fictional dataset tracks the annual growth of a community garden project, 'Green Haven', in terms of its planted area (in acres) from 2005 to 2020. Initially a small project with just 1 acre in 2005, 'Green Haven' expanded as the community's interest in sustainable living grew. A notable expansion occurred in 2015 when the garden doubled its area due to increased community involvement.\\\"\\nDataset:\\nYear,Planted Area (Acres)\\n2005,1\\n2006,1.2\\n2007,1.4\\n2008,1.6\\n2009,1.8\\n2010,2\\n2011,2.5\\n2012,3\\n2013,3.5\\n2014,4\\n2015,8\\n2016,9\\n2017,10\\n2018,11\\n2019,12\\n2020,14\"\n",
    "\n",
    "\n",
    "# data = {'text': input_text}\n",
    "# response = requests.post(url, json=data)\n",
    "model_path = \"vis-Mistral-7B-v0.1-ChartDataset-to-PresentationScript\"\n",
    "tokenizer = AutoTokenizer.from_pretrained(model_path)\n",
    "input_data = [\n",
    "    {\n",
    "        \"role\": \"system\", \"content\": \"You are an presentation script generator based on the chart dataset. Users will ask you questions in English and you will generate a presentation script (foucs on data viusalization storytelling).\"\n",
    "    },\n",
    "    {\n",
    "        \"role\": \"user\",\n",
    "        \"content\": \"\\nData Background: \\\"This fictional dataset tracks the annual growth of a community garden project, 'Green Haven', in terms of its planted area (in acres) from 2005 to 2020. Initially a small project with just 1 acre in 2005, 'Green Haven' expanded as the community's interest in sustainable living grew. A notable expansion occurred in 2015 when the garden doubled its area due to increased community involvement.\\\"\\nDataset:\\nYear,Planted Area (Acres)\\n2005,1\\n2006,1.2\\n2007,1.4\\n2008,1.6\\n2009,1.8\\n2010,2\\n2011,2.5\\n2012,3\\n2013,3.5\\n2014,4\\n2015,8\\n2016,9\\n2017,10\\n2018,11\\n2019,12\\n2020,14\"\n",
    "    }\n",
    "]\n",
    "\n",
    "prompt = tokenizer.apply_chat_template(input_data, tokenize=False, add_generation_prompt=True)\n",
    "\n",
    "\n"
   ]
  },
  {
   "cell_type": "code",
   "execution_count": null,
   "metadata": {},
   "outputs": [],
   "source": []
  },
  {
   "cell_type": "code",
   "execution_count": 18,
   "metadata": {},
   "outputs": [
    {
     "data": {
      "text/plain": [
       "'<|im_start|>system\\nYou are an presentation script generator based on the chart dataset. Users will ask you questions in English and you will generate a presentation script (foucs on data viusalization storytelling).<|im_end|>\\n<|im_start|>user\\n\\nData Background: \"This fictional dataset tracks the annual growth of a community garden project, \\'Green Haven\\', in terms of its planted area (in acres) from 2005 to 2020. Initially a small project with just 1 acre in 2005, \\'Green Haven\\' expanded as the community\\'s interest in sustainable living grew. A notable expansion occurred in 2015 when the garden doubled its area due to increased community involvement.\"\\nDataset:\\nYear,Planted Area (Acres)\\n2005,1\\n2006,1.2\\n2007,1.4\\n2008,1.6\\n2009,1.8\\n2010,2\\n2011,2.5\\n2012,3\\n2013,3.5\\n2014,4\\n2015,8\\n2016,9\\n2017,10\\n2018,11\\n2019,12\\n2020,14<|im_end|>\\n<|im_start|>assistant\\n'"
      ]
     },
     "execution_count": 18,
     "metadata": {},
     "output_type": "execute_result"
    }
   ],
   "source": [
    "prompt"
   ]
  },
  {
   "cell_type": "code",
   "execution_count": 19,
   "metadata": {},
   "outputs": [],
   "source": [
    "request= {\"inputs\":prompt,\"parameters\":{\"temperature\":0.2, \"top_p\": 0.95, \"max_new_tokens\": 256}}"
   ]
  },
  {
   "cell_type": "code",
   "execution_count": 22,
   "metadata": {},
   "outputs": [
    {
     "name": "stdout",
     "output_type": "stream",
     "text": [
      "Error:  500\n"
     ]
    }
   ],
   "source": [
    "response = requests.post(url, json=request)\n",
    "\n",
    "if response.status_code == 200:\n",
    "    print(\"Generated Text: \", response.json())\n",
    "else:\n",
    "    print(\"Error: \", response.status_code)"
   ]
  }
 ],
 "metadata": {
  "kernelspec": {
   "display_name": "base",
   "language": "python",
   "name": "python3"
  },
  "language_info": {
   "codemirror_mode": {
    "name": "ipython",
    "version": 3
   },
   "file_extension": ".py",
   "mimetype": "text/x-python",
   "name": "python",
   "nbconvert_exporter": "python",
   "pygments_lexer": "ipython3",
   "version": "3.11.4"
  }
 },
 "nbformat": 4,
 "nbformat_minor": 2
}
